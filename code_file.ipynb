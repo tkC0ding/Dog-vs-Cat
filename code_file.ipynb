{
 "cells": [
  {
   "cell_type": "markdown",
   "metadata": {},
   "source": [
    "# Making Generators"
   ]
  },
  {
   "cell_type": "code",
   "execution_count": 3,
   "metadata": {},
   "outputs": [],
   "source": [
    "import tensorflow as tf"
   ]
  },
  {
   "cell_type": "code",
   "execution_count": 5,
   "metadata": {},
   "outputs": [],
   "source": [
    "image_data_gen = tf.keras.preprocessing.image.ImageDataGenerator(\n",
    "    rotation_range = 180,\n",
    "    height_shift_range = 0.25,\n",
    "    width_shift_range = 0.25,\n",
    "    horizontal_flip = True,\n",
    "    vertical_flip = True,\n",
    "    shear_range = 60,\n",
    "    zoom_range = 0.8,\n",
    "    brightness_range = [0, 2],\n",
    "    rescale = 1/255,\n",
    "    channel_shift_range = 100\n",
    ")"
   ]
  },
  {
   "cell_type": "code",
   "execution_count": 6,
   "metadata": {},
   "outputs": [],
   "source": [
    "test_data_gen = tf.keras.preprocessing.image.ImageDataGenerator(\n",
    "    rotation_range = 90,\n",
    "    horizontal_flip = True,\n",
    "    vertical_flip = True,\n",
    "    rescale = 1/255\n",
    ")"
   ]
  },
  {
   "cell_type": "code",
   "execution_count": 7,
   "metadata": {},
   "outputs": [],
   "source": [
    "Train_path = 'Data/train'\n",
    "Valid_path = 'Data/validation'\n",
    "Test_path = 'Data/test'\n",
    "IMG_SIZE = 100\n",
    "BATCH_SIZE = 32"
   ]
  },
  {
   "cell_type": "code",
   "execution_count": 40,
   "metadata": {},
   "outputs": [
    {
     "name": "stdout",
     "output_type": "stream",
     "text": [
      "Found 13979 images belonging to 2 classes.\n"
     ]
    }
   ],
   "source": [
    "train_generator = image_data_gen.flow_from_directory(\n",
    "    Train_path,\n",
    "    target_size=(IMG_SIZE, IMG_SIZE),\n",
    "    color_mode = 'grayscale',\n",
    "    class_mode = 'binary',\n",
    "    batch_size = BATCH_SIZE,\n",
    "    shuffle=True,\n",
    ")"
   ]
  },
  {
   "cell_type": "code",
   "execution_count": 41,
   "metadata": {},
   "outputs": [
    {
     "name": "stdout",
     "output_type": "stream",
     "text": [
      "Found 6000 images belonging to 2 classes.\n"
     ]
    }
   ],
   "source": [
    "valid_generator = image_data_gen.flow_from_directory(\n",
    "    Valid_path,\n",
    "    target_size=(IMG_SIZE, IMG_SIZE),\n",
    "    color_mode='grayscale',\n",
    "    class_mode='binary',\n",
    "    batch_size=BATCH_SIZE,\n",
    "    shuffle=True\n",
    ")"
   ]
  },
  {
   "cell_type": "code",
   "execution_count": 42,
   "metadata": {},
   "outputs": [
    {
     "name": "stdout",
     "output_type": "stream",
     "text": [
      "Found 4980 images belonging to 2 classes.\n"
     ]
    }
   ],
   "source": [
    "test_generator = test_data_gen.flow_from_directory(\n",
    "    Test_path,\n",
    "    target_size=(IMG_SIZE, IMG_SIZE),\n",
    "    color_mode='grayscale',\n",
    "    class_mode='binary',\n",
    "    batch_size=1,\n",
    "    shuffle=False\n",
    ")"
   ]
  },
  {
   "cell_type": "markdown",
   "metadata": {},
   "source": [
    "# Building Model"
   ]
  },
  {
   "cell_type": "code",
   "execution_count": 59,
   "metadata": {},
   "outputs": [],
   "source": [
    "model = tf.keras.models.Sequential()"
   ]
  },
  {
   "cell_type": "code",
   "execution_count": 60,
   "metadata": {},
   "outputs": [],
   "source": [
    "model.add(tf.keras.layers.Conv2D(64, (3,3), activation='relu', input_shape=(100, 100, 1)))\n",
    "model.add(tf.keras.layers.MaxPool2D(pool_size=(2,2), strides=(2,2)))\n",
    "model.add(tf.keras.layers.Conv2D(32, (3,3), activation='relu'))\n",
    "model.add(tf.keras.layers.Dropout(0.25))\n",
    "model.add(tf.keras.layers.MaxPool2D(pool_size=(2,2), strides=(2,2)))\n",
    "model.add(tf.keras.layers.Conv2D(16, (3,3), activation='relu'))\n",
    "model.add(tf.keras.layers.MaxPool2D(pool_size=(2,2), strides=(2,2)))\n",
    "model.add(tf.keras.layers.Conv2D(16, (3,3), activation='relu'))\n",
    "model.add(tf.keras.layers.MaxPool2D(pool_size=(2,2), strides=(2,2)))\n",
    "\n",
    "model.add(tf.keras.layers.Flatten())\n",
    "model.add(tf.keras.layers.Dense(16, activation='relu'))\n",
    "model.add(tf.keras.layers.Dense(16, activation='relu'))\n",
    "model.add(tf.keras.layers.Dropout(0.25))\n",
    "model.add(tf.keras.layers.Dense(2, activation='softmax'))"
   ]
  },
  {
   "cell_type": "code",
   "execution_count": 61,
   "metadata": {},
   "outputs": [
    {
     "name": "stdout",
     "output_type": "stream",
     "text": [
      "Model: \"sequential_8\"\n",
      "_________________________________________________________________\n",
      " Layer (type)                Output Shape              Param #   \n",
      "=================================================================\n",
      " conv2d_19 (Conv2D)          (None, 98, 98, 64)        640       \n",
      "                                                                 \n",
      " max_pooling2d_14 (MaxPoolin  (None, 49, 49, 64)       0         \n",
      " g2D)                                                            \n",
      "                                                                 \n",
      " conv2d_20 (Conv2D)          (None, 47, 47, 32)        18464     \n",
      "                                                                 \n",
      " dropout_8 (Dropout)         (None, 47, 47, 32)        0         \n",
      "                                                                 \n",
      " max_pooling2d_15 (MaxPoolin  (None, 23, 23, 32)       0         \n",
      " g2D)                                                            \n",
      "                                                                 \n",
      " conv2d_21 (Conv2D)          (None, 21, 21, 16)        4624      \n",
      "                                                                 \n",
      " max_pooling2d_16 (MaxPoolin  (None, 10, 10, 16)       0         \n",
      " g2D)                                                            \n",
      "                                                                 \n",
      " conv2d_22 (Conv2D)          (None, 8, 8, 16)          2320      \n",
      "                                                                 \n",
      " max_pooling2d_17 (MaxPoolin  (None, 4, 4, 16)         0         \n",
      " g2D)                                                            \n",
      "                                                                 \n",
      " flatten_5 (Flatten)         (None, 256)               0         \n",
      "                                                                 \n",
      " dense_14 (Dense)            (None, 16)                4112      \n",
      "                                                                 \n",
      " dense_15 (Dense)            (None, 16)                272       \n",
      "                                                                 \n",
      " dropout_9 (Dropout)         (None, 16)                0         \n",
      "                                                                 \n",
      " dense_16 (Dense)            (None, 2)                 34        \n",
      "                                                                 \n",
      "=================================================================\n",
      "Total params: 30,466\n",
      "Trainable params: 30,466\n",
      "Non-trainable params: 0\n",
      "_________________________________________________________________\n"
     ]
    }
   ],
   "source": [
    "model.summary()"
   ]
  },
  {
   "cell_type": "code",
   "execution_count": 62,
   "metadata": {},
   "outputs": [],
   "source": [
    "model.compile(optimizer='adam', loss='sparse_categorical_crossentropy', metrics=['accuracy'])"
   ]
  },
  {
   "cell_type": "code",
   "execution_count": 64,
   "metadata": {},
   "outputs": [
    {
     "name": "stderr",
     "output_type": "stream",
     "text": [
      "/tmp/ipykernel_1072/3779622016.py:1: UserWarning: `Model.fit_generator` is deprecated and will be removed in a future version. Please use `Model.fit`, which supports generators.\n",
      "  model.fit_generator(train_generator,\n"
     ]
    },
    {
     "name": "stdout",
     "output_type": "stream",
     "text": [
      "Epoch 1/20\n",
      "437/437 [==============================] - 73s 166ms/step - loss: 0.6934 - accuracy: 0.4974 - val_loss: 0.6933 - val_accuracy: 0.4922\n",
      "Epoch 2/20\n",
      "437/437 [==============================] - 69s 158ms/step - loss: 0.6932 - accuracy: 0.4959 - val_loss: 0.6934 - val_accuracy: 0.4812\n",
      "Epoch 3/20\n",
      "437/437 [==============================] - 62s 142ms/step - loss: 0.6932 - accuracy: 0.4910 - val_loss: 0.6930 - val_accuracy: 0.5156\n",
      "Epoch 4/20\n",
      "437/437 [==============================] - 34s 78ms/step - loss: 0.6932 - accuracy: 0.4975 - val_loss: 0.6932 - val_accuracy: 0.4703\n",
      "Epoch 5/20\n",
      "437/437 [==============================] - 34s 77ms/step - loss: 0.6932 - accuracy: 0.4936 - val_loss: 0.6931 - val_accuracy: 0.5047\n",
      "Epoch 6/20\n",
      "437/437 [==============================] - 34s 77ms/step - loss: 0.6932 - accuracy: 0.4950 - val_loss: 0.6931 - val_accuracy: 0.5063\n",
      "Epoch 7/20\n",
      "437/437 [==============================] - ETA: 0s - loss: 0.6932 - accuracy: 0.4966"
     ]
    },
    {
     "name": "stderr",
     "output_type": "stream",
     "text": [
      "/home/toshan/miniconda3/envs/tf/lib/python3.9/site-packages/PIL/TiffImagePlugin.py:866: UserWarning: Truncated File Read\n",
      "  warnings.warn(str(msg))\n"
     ]
    },
    {
     "name": "stdout",
     "output_type": "stream",
     "text": [
      "437/437 [==============================] - 33s 77ms/step - loss: 0.6932 - accuracy: 0.4966 - val_loss: 0.6931 - val_accuracy: 0.5172\n",
      "Epoch 8/20\n",
      "437/437 [==============================] - 33s 76ms/step - loss: 0.6932 - accuracy: 0.4945 - val_loss: 0.6931 - val_accuracy: 0.5078\n",
      "Epoch 9/20\n",
      "437/437 [==============================] - 34s 77ms/step - loss: 0.6932 - accuracy: 0.4989 - val_loss: 0.6931 - val_accuracy: 0.5125\n",
      "Epoch 10/20\n",
      "437/437 [==============================] - 33s 77ms/step - loss: 0.6932 - accuracy: 0.4929 - val_loss: 0.6932 - val_accuracy: 0.4875\n",
      "Epoch 11/20\n",
      "437/437 [==============================] - 37s 86ms/step - loss: 0.6932 - accuracy: 0.4953 - val_loss: 0.6932 - val_accuracy: 0.4984\n",
      "Epoch 12/20\n",
      "437/437 [==============================] - 33s 76ms/step - loss: 0.6932 - accuracy: 0.4952 - val_loss: 0.6931 - val_accuracy: 0.5063\n",
      "Epoch 13/20\n",
      "437/437 [==============================] - 34s 78ms/step - loss: 0.6933 - accuracy: 0.5020 - val_loss: 0.6933 - val_accuracy: 0.4875\n",
      "Epoch 14/20\n",
      "437/437 [==============================] - 37s 86ms/step - loss: 0.6932 - accuracy: 0.4995 - val_loss: 0.6932 - val_accuracy: 0.4969\n",
      "Epoch 15/20\n",
      "437/437 [==============================] - 34s 76ms/step - loss: 0.6932 - accuracy: 0.4985 - val_loss: 0.6931 - val_accuracy: 0.5094\n",
      "Epoch 16/20\n",
      "437/437 [==============================] - 33s 76ms/step - loss: 0.6932 - accuracy: 0.4964 - val_loss: 0.6933 - val_accuracy: 0.4953\n",
      "Epoch 17/20\n",
      "437/437 [==============================] - 33s 76ms/step - loss: 0.6932 - accuracy: 0.4994 - val_loss: 0.6933 - val_accuracy: 0.4969\n",
      "Epoch 18/20\n",
      "437/437 [==============================] - 33s 76ms/step - loss: 0.6932 - accuracy: 0.4939 - val_loss: 0.6931 - val_accuracy: 0.5063\n",
      "Epoch 19/20\n",
      "437/437 [==============================] - 34s 77ms/step - loss: 0.6932 - accuracy: 0.4975 - val_loss: 0.6931 - val_accuracy: 0.5078\n",
      "Epoch 20/20\n",
      "437/437 [==============================] - 33s 76ms/step - loss: 0.6932 - accuracy: 0.4979 - val_loss: 0.6936 - val_accuracy: 0.4641\n"
     ]
    },
    {
     "data": {
      "text/plain": [
       "<keras.callbacks.History at 0x7f82c806a2b0>"
      ]
     },
     "execution_count": 64,
     "metadata": {},
     "output_type": "execute_result"
    }
   ],
   "source": [
    "model.fit_generator(train_generator,\n",
    "                    epochs = 20,\n",
    "                    validation_data = valid_generator,\n",
    "                    validation_steps=20)"
   ]
  },
  {
   "cell_type": "code",
   "execution_count": null,
   "metadata": {},
   "outputs": [],
   "source": []
  }
 ],
 "metadata": {
  "kernelspec": {
   "display_name": "tf",
   "language": "python",
   "name": "python3"
  },
  "language_info": {
   "codemirror_mode": {
    "name": "ipython",
    "version": 3
   },
   "file_extension": ".py",
   "mimetype": "text/x-python",
   "name": "python",
   "nbconvert_exporter": "python",
   "pygments_lexer": "ipython3",
   "version": "3.9.18"
  }
 },
 "nbformat": 4,
 "nbformat_minor": 2
}
