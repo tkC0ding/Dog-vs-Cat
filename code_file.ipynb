{
 "cells": [
  {
   "cell_type": "code",
   "execution_count": 1,
   "metadata": {},
   "outputs": [],
   "source": [
    "import tensorflow as tf"
   ]
  },
  {
   "cell_type": "code",
   "execution_count": 5,
   "metadata": {},
   "outputs": [],
   "source": [
    "train_data_gen = tf.keras.preprocessing.image.ImageDataGenerator(\n",
    "    rotation_range = 180,\n",
    "    height_shift_range = 0.25,\n",
    "    width_shift_range = 0.25,\n",
    "    horizontal_flip = True,\n",
    "    vertical_flip = True,\n",
    "    shear_range = 60,\n",
    "    zoom_range = 0.8,\n",
    "    brightness_range = [0, 2],\n",
    "    rescale = 1/255,\n",
    "    channel_shift_range = 100\n",
    ")"
   ]
  },
  {
   "cell_type": "code",
   "execution_count": null,
   "metadata": {},
   "outputs": [],
   "source": []
  }
 ],
 "metadata": {
  "kernelspec": {
   "display_name": "tf",
   "language": "python",
   "name": "python3"
  },
  "language_info": {
   "codemirror_mode": {
    "name": "ipython",
    "version": 3
   },
   "file_extension": ".py",
   "mimetype": "text/x-python",
   "name": "python",
   "nbconvert_exporter": "python",
   "pygments_lexer": "ipython3",
   "version": "3.9.18"
  }
 },
 "nbformat": 4,
 "nbformat_minor": 2
}
