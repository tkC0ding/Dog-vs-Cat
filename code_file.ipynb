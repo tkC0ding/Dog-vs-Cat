{
 "cells": [
  {
   "cell_type": "markdown",
   "metadata": {},
   "source": [
    "# Making Generators"
   ]
  },
  {
   "cell_type": "code",
   "execution_count": 37,
   "metadata": {},
   "outputs": [],
   "source": [
    "import tensorflow as tf"
   ]
  },
  {
   "cell_type": "code",
   "execution_count": 38,
   "metadata": {},
   "outputs": [],
   "source": [
    "image_data_gen = tf.keras.preprocessing.image.ImageDataGenerator(\n",
    "    rotation_range = 180,\n",
    "    height_shift_range = 0.25,\n",
    "    width_shift_range = 0.25,\n",
    "    horizontal_flip = True,\n",
    "    vertical_flip = True,\n",
    "    shear_range = 60,\n",
    "    zoom_range = 0.8,\n",
    "    brightness_range = [0, 2],\n",
    "    rescale = 1/255,\n",
    "    channel_shift_range = 100\n",
    ")"
   ]
  },
  {
   "cell_type": "code",
   "execution_count": 39,
   "metadata": {},
   "outputs": [],
   "source": [
    "test_data_gen = tf.keras.preprocessing.image.ImageDataGenerator(\n",
    "    rotation_range = 90,\n",
    "    horizontal_flip = True,\n",
    "    vertical_flip = True,\n",
    "    rescale = 1/255\n",
    ")"
   ]
  },
  {
   "cell_type": "code",
   "execution_count": 40,
   "metadata": {},
   "outputs": [],
   "source": [
    "Train_path = 'Data/train'\n",
    "Valid_path = 'Data/validation'\n",
    "Test_path = 'Data/test'\n",
    "IMG_SIZE = 100\n",
    "BATCH_SIZE = 100"
   ]
  },
  {
   "cell_type": "code",
   "execution_count": 41,
   "metadata": {},
   "outputs": [
    {
     "name": "stdout",
     "output_type": "stream",
     "text": [
      "Found 13979 images belonging to 2 classes.\n"
     ]
    }
   ],
   "source": [
    "train_generator = image_data_gen.flow_from_directory(\n",
    "    Train_path,\n",
    "    target_size=(IMG_SIZE, IMG_SIZE),\n",
    "    color_mode = 'grayscale',\n",
    "    class_mode = 'binary',\n",
    "    batch_size = BATCH_SIZE,\n",
    "    shuffle=True,\n",
    ")"
   ]
  },
  {
   "cell_type": "code",
   "execution_count": 42,
   "metadata": {},
   "outputs": [
    {
     "name": "stdout",
     "output_type": "stream",
     "text": [
      "Found 6000 images belonging to 2 classes.\n"
     ]
    }
   ],
   "source": [
    "valid_generator = image_data_gen.flow_from_directory(\n",
    "    Valid_path,\n",
    "    target_size=(IMG_SIZE, IMG_SIZE),\n",
    "    color_mode='grayscale',\n",
    "    class_mode='binary',\n",
    "    batch_size=BATCH_SIZE,\n",
    "    shuffle=True\n",
    ")"
   ]
  },
  {
   "cell_type": "code",
   "execution_count": 43,
   "metadata": {},
   "outputs": [
    {
     "name": "stdout",
     "output_type": "stream",
     "text": [
      "Found 4980 images belonging to 2 classes.\n"
     ]
    }
   ],
   "source": [
    "test_generator = test_data_gen.flow_from_directory(\n",
    "    Test_path,\n",
    "    target_size=(IMG_SIZE, IMG_SIZE),\n",
    "    color_mode='grayscale',\n",
    "    class_mode='binary',\n",
    "    batch_size=1,\n",
    "    shuffle=False\n",
    ")"
   ]
  },
  {
   "cell_type": "markdown",
   "metadata": {},
   "source": [
    "# Building Model"
   ]
  },
  {
   "cell_type": "code",
   "execution_count": 44,
   "metadata": {},
   "outputs": [],
   "source": [
    "model = tf.keras.models.Sequential()"
   ]
  },
  {
   "cell_type": "code",
   "execution_count": 45,
   "metadata": {},
   "outputs": [],
   "source": [
    "model.add(tf.keras.layers.Conv2D(32, kernel_size=(3,3), input_shape = (100, 100, 1), padding='same', strides=(1,1), activation='relu', kernel_regularizer=tf.keras.regularizers.L2(l2=0.01)))\n",
    "model.add(tf.keras.layers.MaxPooling2D(pool_size=(2,2), strides=(2,2)))\n",
    "model.add(tf.keras.layers.Dropout(0.5))\n",
    "model.add(tf.keras.layers.BatchNormalization())\n",
    "model.add(tf.keras.layers.Conv2D(32, kernel_size=(3,3), input_shape = (100, 100, 1), padding='same', strides=(1,1), activation='relu', kernel_regularizer=tf.keras.regularizers.L2(l2=0.01)))\n",
    "model.add(tf.keras.layers.MaxPooling2D(pool_size=(2,2), strides=(2,2)))\n",
    "model.add(tf.keras.layers.Dropout(0.5))\n",
    "model.add(tf.keras.layers.BatchNormalization())\n",
    "model.add(tf.keras.layers.Conv2D(32, kernel_size=(3,3), input_shape = (100, 100, 1), padding='same', strides=(1,1), activation='relu', kernel_regularizer=tf.keras.regularizers.L2(l2=0.01)))\n",
    "model.add(tf.keras.layers.MaxPooling2D(pool_size=(2,2), strides=(2,2)))\n",
    "model.add(tf.keras.layers.BatchNormalization())\n",
    "\n",
    "model.add(tf.keras.layers.Flatten())\n",
    "model.add(tf.keras.layers.Dense(128, activation='relu'))\n",
    "model.add(tf.keras.layers.Dropout(0.5))\n",
    "model.add(tf.keras.layers.BatchNormalization())\n",
    "model.add(tf.keras.layers.Dense(64, activation='relu'))\n",
    "model.add(tf.keras.layers.BatchNormalization())\n",
    "model.add(tf.keras.layers.Dense(1, activation='sigmoid'))"
   ]
  },
  {
   "cell_type": "code",
   "execution_count": 46,
   "metadata": {},
   "outputs": [],
   "source": [
    "callback = tf.keras.callbacks.EarlyStopping(\n",
    "    monitor='val_loss',\n",
    "    min_delta=0.001,\n",
    "    patience=5,\n",
    "    verbose=1,\n",
    "    mode='min',\n",
    "    baseline=None,\n",
    "    restore_best_weights=True\n",
    ")"
   ]
  },
  {
   "cell_type": "code",
   "execution_count": 47,
   "metadata": {},
   "outputs": [
    {
     "name": "stdout",
     "output_type": "stream",
     "text": [
      "Model: \"sequential_5\"\n",
      "_________________________________________________________________\n",
      " Layer (type)                Output Shape              Param #   \n",
      "=================================================================\n",
      " conv2d_12 (Conv2D)          (None, 100, 100, 32)      320       \n",
      "                                                                 \n",
      " max_pooling2d_10 (MaxPoolin  (None, 50, 50, 32)       0         \n",
      " g2D)                                                            \n",
      "                                                                 \n",
      " dropout_3 (Dropout)         (None, 50, 50, 32)        0         \n",
      "                                                                 \n",
      " batch_normalization (BatchN  (None, 50, 50, 32)       128       \n",
      " ormalization)                                                   \n",
      "                                                                 \n",
      " conv2d_13 (Conv2D)          (None, 50, 50, 32)        9248      \n",
      "                                                                 \n",
      " max_pooling2d_11 (MaxPoolin  (None, 25, 25, 32)       0         \n",
      " g2D)                                                            \n",
      "                                                                 \n",
      " dropout_4 (Dropout)         (None, 25, 25, 32)        0         \n",
      "                                                                 \n",
      " batch_normalization_1 (Batc  (None, 25, 25, 32)       128       \n",
      " hNormalization)                                                 \n",
      "                                                                 \n",
      " conv2d_14 (Conv2D)          (None, 25, 25, 32)        9248      \n",
      "                                                                 \n",
      " max_pooling2d_12 (MaxPoolin  (None, 12, 12, 32)       0         \n",
      " g2D)                                                            \n",
      "                                                                 \n",
      " batch_normalization_2 (Batc  (None, 12, 12, 32)       128       \n",
      " hNormalization)                                                 \n",
      "                                                                 \n",
      " flatten_4 (Flatten)         (None, 4608)              0         \n",
      "                                                                 \n",
      " dense_12 (Dense)            (None, 128)               589952    \n",
      "                                                                 \n",
      " dropout_5 (Dropout)         (None, 128)               0         \n",
      "                                                                 \n",
      " batch_normalization_3 (Batc  (None, 128)              512       \n",
      " hNormalization)                                                 \n",
      "                                                                 \n",
      " dense_13 (Dense)            (None, 64)                8256      \n",
      "                                                                 \n",
      " batch_normalization_4 (Batc  (None, 64)               256       \n",
      " hNormalization)                                                 \n",
      "                                                                 \n",
      " dense_14 (Dense)            (None, 1)                 65        \n",
      "                                                                 \n",
      "=================================================================\n",
      "Total params: 618,241\n",
      "Trainable params: 617,665\n",
      "Non-trainable params: 576\n",
      "_________________________________________________________________\n"
     ]
    }
   ],
   "source": [
    "model.summary()"
   ]
  },
  {
   "cell_type": "code",
   "execution_count": 48,
   "metadata": {},
   "outputs": [],
   "source": [
    "model.compile(optimizer='adam', loss='binary_crossentropy', metrics=['accuracy'])"
   ]
  },
  {
   "cell_type": "code",
   "execution_count": 49,
   "metadata": {},
   "outputs": [
    {
     "name": "stderr",
     "output_type": "stream",
     "text": [
      "/tmp/ipykernel_3944/4199204132.py:1: UserWarning: `Model.fit_generator` is deprecated and will be removed in a future version. Please use `Model.fit`, which supports generators.\n",
      "  model.fit_generator(train_generator,\n"
     ]
    },
    {
     "name": "stdout",
     "output_type": "stream",
     "text": [
      "Epoch 1/10\n",
      "140/140 [==============================] - ETA: 0s - loss: 1.2295 - accuracy: 0.5113"
     ]
    },
    {
     "name": "stderr",
     "output_type": "stream",
     "text": [
      "/home/toshan/miniconda3/envs/tf/lib/python3.9/site-packages/PIL/TiffImagePlugin.py:866: UserWarning: Truncated File Read\n",
      "  warnings.warn(str(msg))\n"
     ]
    },
    {
     "name": "stdout",
     "output_type": "stream",
     "text": [
      "140/140 [==============================] - 77s 537ms/step - loss: 1.2295 - accuracy: 0.5113 - val_loss: 1.0135 - val_accuracy: 0.5030\n",
      "Epoch 2/10\n",
      "140/140 [==============================] - 73s 517ms/step - loss: 0.9221 - accuracy: 0.5307 - val_loss: 0.8352 - val_accuracy: 0.5075\n",
      "Epoch 3/10\n",
      "140/140 [==============================] - 72s 514ms/step - loss: 0.7893 - accuracy: 0.5443 - val_loss: 0.7539 - val_accuracy: 0.5255\n",
      "Epoch 4/10\n",
      "140/140 [==============================] - 74s 529ms/step - loss: 0.7318 - accuracy: 0.5498 - val_loss: 0.7229 - val_accuracy: 0.5170\n",
      "Epoch 5/10\n",
      "140/140 [==============================] - 71s 504ms/step - loss: 0.7106 - accuracy: 0.5495 - val_loss: 0.6999 - val_accuracy: 0.5410\n",
      "Epoch 6/10\n",
      "140/140 [==============================] - 71s 505ms/step - loss: 0.7043 - accuracy: 0.5461 - val_loss: 0.7029 - val_accuracy: 0.5385\n",
      "Epoch 7/10\n",
      "140/140 [==============================] - 71s 506ms/step - loss: 0.6984 - accuracy: 0.5586 - val_loss: 0.6987 - val_accuracy: 0.5440\n",
      "Epoch 8/10\n",
      "140/140 [==============================] - 71s 508ms/step - loss: 0.6956 - accuracy: 0.5513 - val_loss: 0.6910 - val_accuracy: 0.5720\n",
      "Epoch 9/10\n",
      "140/140 [==============================] - 72s 513ms/step - loss: 0.6935 - accuracy: 0.5580 - val_loss: 0.8713 - val_accuracy: 0.4885\n",
      "Epoch 10/10\n",
      "140/140 [==============================] - 71s 509ms/step - loss: 0.6912 - accuracy: 0.5600 - val_loss: 0.7466 - val_accuracy: 0.5280\n"
     ]
    },
    {
     "data": {
      "text/plain": [
       "<keras.callbacks.History at 0x7f7c98469670>"
      ]
     },
     "execution_count": 49,
     "metadata": {},
     "output_type": "execute_result"
    }
   ],
   "source": [
    "model.fit_generator(train_generator,\n",
    "                    epochs = 10,\n",
    "                    validation_data = valid_generator,\n",
    "                    validation_steps=20,\n",
    "                    callbacks = callback)"
   ]
  },
  {
   "cell_type": "code",
   "execution_count": null,
   "metadata": {},
   "outputs": [],
   "source": []
  }
 ],
 "metadata": {
  "kernelspec": {
   "display_name": "tf",
   "language": "python",
   "name": "python3"
  },
  "language_info": {
   "codemirror_mode": {
    "name": "ipython",
    "version": 3
   },
   "file_extension": ".py",
   "mimetype": "text/x-python",
   "name": "python",
   "nbconvert_exporter": "python",
   "pygments_lexer": "ipython3",
   "version": "3.9.18"
  }
 },
 "nbformat": 4,
 "nbformat_minor": 2
}
