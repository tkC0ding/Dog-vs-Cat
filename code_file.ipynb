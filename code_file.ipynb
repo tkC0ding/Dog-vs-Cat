{
 "cells": [
  {
   "cell_type": "markdown",
   "metadata": {},
   "source": [
    "# Making Generators"
   ]
  },
  {
   "cell_type": "code",
   "execution_count": 3,
   "metadata": {},
   "outputs": [],
   "source": [
    "import tensorflow as tf"
   ]
  },
  {
   "cell_type": "code",
   "execution_count": 5,
   "metadata": {},
   "outputs": [],
   "source": [
    "image_data_gen = tf.keras.preprocessing.image.ImageDataGenerator(\n",
    "    rotation_range = 180,\n",
    "    height_shift_range = 0.25,\n",
    "    width_shift_range = 0.25,\n",
    "    horizontal_flip = True,\n",
    "    vertical_flip = True,\n",
    "    shear_range = 60,\n",
    "    zoom_range = 0.8,\n",
    "    brightness_range = [0, 2],\n",
    "    rescale = 1/255,\n",
    "    channel_shift_range = 100\n",
    ")"
   ]
  },
  {
   "cell_type": "code",
   "execution_count": 6,
   "metadata": {},
   "outputs": [],
   "source": [
    "test_data_gen = tf.keras.preprocessing.image.ImageDataGenerator(\n",
    "    rotation_range = 90,\n",
    "    horizontal_flip = True,\n",
    "    vertical_flip = True,\n",
    "    rescale = 1/255\n",
    ")"
   ]
  },
  {
   "cell_type": "code",
   "execution_count": 7,
   "metadata": {},
   "outputs": [],
   "source": [
    "Train_path = 'Data/train'\n",
    "Valid_path = 'Data/validation'\n",
    "Test_path = 'Data/test'\n",
    "IMG_SIZE = 100\n",
    "BATCH_SIZE = 32"
   ]
  },
  {
   "cell_type": "code",
   "execution_count": 8,
   "metadata": {},
   "outputs": [
    {
     "name": "stdout",
     "output_type": "stream",
     "text": [
      "Found 13979 images belonging to 2 classes.\n"
     ]
    }
   ],
   "source": [
    "train_generator = image_data_gen.flow_from_directory(\n",
    "    Train_path,\n",
    "    target_size=(IMG_SIZE, IMG_SIZE),\n",
    "    color_mode = 'rgb',\n",
    "    class_mode = 'binary',\n",
    "    batch_size = BATCH_SIZE,\n",
    "    shuffle=True,\n",
    ")"
   ]
  },
  {
   "cell_type": "code",
   "execution_count": 9,
   "metadata": {},
   "outputs": [
    {
     "name": "stdout",
     "output_type": "stream",
     "text": [
      "Found 6000 images belonging to 2 classes.\n"
     ]
    }
   ],
   "source": [
    "valid_generator = image_data_gen.flow_from_directory(\n",
    "    Valid_path,\n",
    "    target_size=(IMG_SIZE, IMG_SIZE),\n",
    "    color_mode='rgb',\n",
    "    class_mode='binary',\n",
    "    batch_size=BATCH_SIZE,\n",
    "    shuffle=True\n",
    ")"
   ]
  },
  {
   "cell_type": "code",
   "execution_count": 10,
   "metadata": {},
   "outputs": [
    {
     "name": "stdout",
     "output_type": "stream",
     "text": [
      "Found 4980 images belonging to 2 classes.\n"
     ]
    }
   ],
   "source": [
    "test_generator = test_data_gen.flow_from_directory(\n",
    "    Test_path,\n",
    "    target_size=(IMG_SIZE, IMG_SIZE),\n",
    "    color_mode='rgb',\n",
    "    class_mode='binary',\n",
    "    batch_size=1,\n",
    "    shuffle=False\n",
    ")"
   ]
  },
  {
   "cell_type": "markdown",
   "metadata": {},
   "source": [
    "# Building Model"
   ]
  },
  {
   "cell_type": "code",
   "execution_count": 13,
   "metadata": {},
   "outputs": [],
   "source": [
    "model = tf.keras.models.Sequential()"
   ]
  },
  {
   "cell_type": "code",
   "execution_count": 15,
   "metadata": {},
   "outputs": [],
   "source": [
    "model.add(tf.keras.layers.Conv2D(64, (3,3), activation='relu', input_shape=(100, 100, 3)))\n",
    "model.add(tf.keras.layers.MaxPool2D(pool_size=(2,2), strides=(2,2)))\n",
    "model.add(tf.keras.layers.Conv2D(32, (3,3), activation='relu'))\n",
    "model.add(tf.keras.layers.MaxPool2D(pool_size=(2,2), strides=(2,2)))\n",
    "model.add(tf.keras.layers.Conv2D(16, (3,3), activation='relu'))\n",
    "model.add(tf.keras.layers.MaxPool2D(pool_size=(2,2), strides=(2,2)))\n",
    "\n",
    "model.add(tf.keras.layers.Flatten())\n",
    "model.add(tf.keras.layers.Dense(16, activation='relu'))\n",
    "model.add(tf.keras.layers.Dense(16, activation='relu'))\n",
    "model.add(tf.keras.layers.Dense(2, activation='sigmoid'))"
   ]
  },
  {
   "cell_type": "code",
   "execution_count": 16,
   "metadata": {},
   "outputs": [
    {
     "name": "stdout",
     "output_type": "stream",
     "text": [
      "Model: \"sequential_2\"\n",
      "_________________________________________________________________\n",
      " Layer (type)                Output Shape              Param #   \n",
      "=================================================================\n",
      " conv2d (Conv2D)             (None, 98, 98, 64)        1792      \n",
      "                                                                 \n",
      " max_pooling2d (MaxPooling2D  (None, 49, 49, 64)       0         \n",
      " )                                                               \n",
      "                                                                 \n",
      " conv2d_1 (Conv2D)           (None, 47, 47, 32)        18464     \n",
      "                                                                 \n",
      " max_pooling2d_1 (MaxPooling  (None, 23, 23, 32)       0         \n",
      " 2D)                                                             \n",
      "                                                                 \n",
      " conv2d_2 (Conv2D)           (None, 21, 21, 16)        4624      \n",
      "                                                                 \n",
      " max_pooling2d_2 (MaxPooling  (None, 10, 10, 16)       0         \n",
      " 2D)                                                             \n",
      "                                                                 \n",
      " flatten (Flatten)           (None, 1600)              0         \n",
      "                                                                 \n",
      " dense (Dense)               (None, 16)                25616     \n",
      "                                                                 \n",
      " dense_1 (Dense)             (None, 16)                272       \n",
      "                                                                 \n",
      " dense_2 (Dense)             (None, 2)                 34        \n",
      "                                                                 \n",
      "=================================================================\n",
      "Total params: 50,802\n",
      "Trainable params: 50,802\n",
      "Non-trainable params: 0\n",
      "_________________________________________________________________\n"
     ]
    }
   ],
   "source": [
    "model.summary()"
   ]
  },
  {
   "cell_type": "code",
   "execution_count": 21,
   "metadata": {},
   "outputs": [],
   "source": [
    "model.compile(optimizer='adam', loss='sparse_categorical_crossentropy', metrics=['accuracy'])"
   ]
  },
  {
   "cell_type": "code",
   "execution_count": 26,
   "metadata": {},
   "outputs": [
    {
     "name": "stdout",
     "output_type": "stream",
     "text": [
      "Epoch 1/20\n"
     ]
    },
    {
     "name": "stderr",
     "output_type": "stream",
     "text": [
      "/tmp/ipykernel_1072/3691610862.py:1: UserWarning: `Model.fit_generator` is deprecated and will be removed in a future version. Please use `Model.fit`, which supports generators.\n",
      "  model.fit_generator(train_generator,\n"
     ]
    },
    {
     "name": "stdout",
     "output_type": "stream",
     "text": [
      "437/437 [==============================] - 47s 106ms/step - loss: 0.6930 - accuracy: 0.5037 - val_loss: 0.6930 - val_accuracy: 0.5094\n",
      "Epoch 2/20\n",
      "437/437 [==============================] - 44s 101ms/step - loss: 0.6933 - accuracy: 0.4999 - val_loss: 0.6931 - val_accuracy: 0.5094\n",
      "Epoch 3/20\n",
      "437/437 [==============================] - 44s 101ms/step - loss: 0.6932 - accuracy: 0.5007 - val_loss: 0.6945 - val_accuracy: 0.4469\n",
      "Epoch 4/20\n",
      "437/437 [==============================] - 67s 154ms/step - loss: 0.6930 - accuracy: 0.5059 - val_loss: 0.6859 - val_accuracy: 0.5875\n",
      "Epoch 5/20\n",
      "437/437 [==============================] - 98s 223ms/step - loss: 0.6843 - accuracy: 0.5430 - val_loss: 0.6761 - val_accuracy: 0.5656\n",
      "Epoch 6/20\n",
      "437/437 [==============================] - ETA: 0s - loss: 0.6786 - accuracy: 0.5591"
     ]
    },
    {
     "name": "stderr",
     "output_type": "stream",
     "text": [
      "/home/toshan/miniconda3/envs/tf/lib/python3.9/site-packages/PIL/TiffImagePlugin.py:866: UserWarning: Truncated File Read\n",
      "  warnings.warn(str(msg))\n"
     ]
    },
    {
     "name": "stdout",
     "output_type": "stream",
     "text": [
      "437/437 [==============================] - 99s 226ms/step - loss: 0.6786 - accuracy: 0.5591 - val_loss: 0.6757 - val_accuracy: 0.5406\n",
      "Epoch 7/20\n",
      "437/437 [==============================] - 99s 227ms/step - loss: 0.6715 - accuracy: 0.5701 - val_loss: 0.6874 - val_accuracy: 0.5375\n",
      "Epoch 8/20\n",
      "437/437 [==============================] - 93s 212ms/step - loss: 0.6661 - accuracy: 0.5755 - val_loss: 0.6635 - val_accuracy: 0.5625\n",
      "Epoch 9/20\n",
      "437/437 [==============================] - 95s 217ms/step - loss: 0.6599 - accuracy: 0.5916 - val_loss: 0.6788 - val_accuracy: 0.6094\n",
      "Epoch 10/20\n",
      "437/437 [==============================] - 105s 240ms/step - loss: 0.6586 - accuracy: 0.5939 - val_loss: 0.6513 - val_accuracy: 0.5938\n",
      "Epoch 11/20\n",
      "437/437 [==============================] - 108s 246ms/step - loss: 0.6535 - accuracy: 0.6033 - val_loss: 0.6232 - val_accuracy: 0.6562\n",
      "Epoch 12/20\n",
      "437/437 [==============================] - 103s 236ms/step - loss: 0.6502 - accuracy: 0.6084 - val_loss: 0.6348 - val_accuracy: 0.6313\n",
      "Epoch 13/20\n",
      "437/437 [==============================] - 93s 212ms/step - loss: 0.6521 - accuracy: 0.6040 - val_loss: 0.6525 - val_accuracy: 0.6031\n",
      "Epoch 14/20\n",
      "437/437 [==============================] - 98s 223ms/step - loss: 0.6512 - accuracy: 0.6028 - val_loss: 0.6649 - val_accuracy: 0.5656\n",
      "Epoch 15/20\n",
      "437/437 [==============================] - 88s 202ms/step - loss: 0.6450 - accuracy: 0.6152 - val_loss: 0.6391 - val_accuracy: 0.6281\n",
      "Epoch 16/20\n",
      "437/437 [==============================] - 86s 197ms/step - loss: 0.6412 - accuracy: 0.6224 - val_loss: 0.6497 - val_accuracy: 0.6250\n",
      "Epoch 17/20\n",
      "437/437 [==============================] - 86s 197ms/step - loss: 0.6409 - accuracy: 0.6228 - val_loss: 0.6548 - val_accuracy: 0.6094\n",
      "Epoch 18/20\n",
      "437/437 [==============================] - 88s 200ms/step - loss: 0.6423 - accuracy: 0.6215 - val_loss: 0.6366 - val_accuracy: 0.6594\n",
      "Epoch 19/20\n",
      "437/437 [==============================] - 88s 202ms/step - loss: 0.6402 - accuracy: 0.6209 - val_loss: 0.6179 - val_accuracy: 0.6438\n",
      "Epoch 20/20\n",
      "437/437 [==============================] - 93s 212ms/step - loss: 0.6387 - accuracy: 0.6245 - val_loss: 0.6129 - val_accuracy: 0.6531\n"
     ]
    },
    {
     "data": {
      "text/plain": [
       "<keras.callbacks.History at 0x7f84607b27c0>"
      ]
     },
     "execution_count": 26,
     "metadata": {},
     "output_type": "execute_result"
    }
   ],
   "source": [
    "model.fit_generator(train_generator,\n",
    "                    epochs = 20,\n",
    "                    validation_data = valid_generator,\n",
    "                    validation_steps=10)"
   ]
  },
  {
   "cell_type": "code",
   "execution_count": null,
   "metadata": {},
   "outputs": [],
   "source": []
  }
 ],
 "metadata": {
  "kernelspec": {
   "display_name": "tf",
   "language": "python",
   "name": "python3"
  },
  "language_info": {
   "codemirror_mode": {
    "name": "ipython",
    "version": 3
   },
   "file_extension": ".py",
   "mimetype": "text/x-python",
   "name": "python",
   "nbconvert_exporter": "python",
   "pygments_lexer": "ipython3",
   "version": "3.9.18"
  }
 },
 "nbformat": 4,
 "nbformat_minor": 2
}
